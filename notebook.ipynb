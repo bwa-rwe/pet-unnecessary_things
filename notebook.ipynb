{
 "cells": [
  {
   "cell_type": "markdown",
   "id": "29820065",
   "metadata": {},
   "source": [
    "\n",
    "<div style=\"border-radius: 15px; box-shadow: 2px 2px 4px; border: 1px solid; background:#bdc3c7; padding: 20px\"> <h7 style=\"color:black; margin-bottom:20px\"> Роман, привет!) Это Михаил.\n",
    "\n",
    "Мои комментарии и замечания далее по тексту помечены различными цветами:\n",
    "    \n",
    "---    \n",
    "<div class=\"alert alert-block alert-danger\">\n",
    "❌ : Критическое замечание, которые следует исправить.\n",
    "</div> \n",
    "    \n",
    "---\n",
    "    \n",
    "<div class=\"alert alert-block alert-warning\">\n",
    "⚠️ : Замечание\\совет на будущее.\n",
    "</div>\n",
    "    \n",
    "---\n",
    "    \n",
    "<div class=\"alert alert-block alert-success\">\n",
    "✔️ : Когда всё сделано правильно.\n",
    "</div>\n",
    "\n",
    "---\n",
    "\n",
    "Если возникнут вопросы по проекту или вопросы общего характера, то не стесняйся - задавай!) Для того, чтобы мне было легче их найти, то выделяй их пожалуйста с помощью цвета, например вот так - <font color=#e17055>\"вопрос, который не останется незамеченным\"</font>\n",
    "        \n",
    "    \n",
    "p.s.: не удаляй мои замечания, если предстоит что то доработать в проекте.</h7>"
   ]
  },
  {
   "cell_type": "markdown",
   "id": "96a2e1fe",
   "metadata": {},
   "source": [
    "___\n",
    "\n",
    "\n",
    "<div class=\"alert alert-danger\" style=\"border-radius: 15px; box-shadow: 4px 4px 4px; border: 1px solid \" > <b>Комментарии от тимлида ❌ : </b> \n",
    "\n",
    "Итог ревью - ты проделал хорошую работу! По факту, ты рассчитал все требуемые метрики и ответил на вопросы заказчика, но на исследование это не сильно похоже. Нет выводов, нет интерпретации полученных результатов, нет рекомендаций по итогу. Совершнно неясно какие кластеры у тебя получились. Что заказчик должен понять посмотрев твой проект?\n",
    "    \n",
    "Доработай пожалуйста эти нюансы, чтобы я смог принять твою работу.\n",
    "    \n",
    "  \n",
    "Если возникнут вопросы - обязательно задавай. Буду ждать!\n",
    "</div>"
   ]
  },
  {
   "cell_type": "markdown",
   "id": "LOzY-rhtWlJm",
   "metadata": {
    "id": "LOzY-rhtWlJm"
   },
   "source": [
    "## Материалы\n",
    "* [Презентация](https://drive.google.com/file/d/1avmfjrY0xoAhaM_lORzidpmtvD5Xtddm/view?usp=sharing)\n"
   ]
  },
  {
   "cell_type": "markdown",
   "id": "89746f74",
   "metadata": {},
   "source": [
    "<div class=\"alert alert-danger\" style=\"border-radius: 15px; box-shadow: 4px 4px 4px; border: 1px solid \" > <b>Комментарии от тимлида ❌ : </b> \n",
    "\n",
    "Многие важные пункты присутствуют, но не хватает некоторых моментов\n",
    "    \n",
    "- нет целей и задач исследования\n",
    "\n",
    "- хорошей практикой является еще добавить слайд с указанием какими данными и за какой период располагаем\n",
    "\n",
    "- исследование представлено не в полном объеме\n",
    "    \n",
    "Доработай, эти моменты пожалуйста\n",
    "</div>"
   ]
  },
  {
   "cell_type": "markdown",
   "id": "uDMh19Cc5W9C",
   "metadata": {
    "id": "uDMh19Cc5W9C"
   },
   "source": [
    "# Ненужные вещи\n",
    "\n",
    "Датасет содержит данные о событиях, совершенных в мобильном приложении \"Ненужные вещи\". \n",
    "В нем пользователи продают свои ненужные вещи, размещая их на доске объявлений. \n",
    "В датасете содержатся данные пользователей, впервые совершивших действия в приложении после 7 октября 2019 года.\n",
    "\n",
    "Цель исследования- Ответить на вопросы заказчика:\n",
    "\n",
    "1. Какие пользователи склонны часто возвращаться в мобильное приложение? \n",
    "2. Какие пользователи часто делают целевое событие (contacts_show) \n",
    "3. Как различается время между распространенными событиями пользователей, (например, различаются ли пользователи по группам на основе времени, которое проходит с момента первого использования мобильного приложения и до использования функции поиска)?"
   ]
  },
  {
   "cell_type": "markdown",
   "id": "bfce6455",
   "metadata": {},
   "source": [
    "<div class=\"alert alert-danger\" style=\"border-radius: 15px; box-shadow: 4px 4px 4px; border: 1px solid \" > <b>Комментарии от ревьюера v2 ❌ : </b>\n",
    "\n",
    "А какие цели и задачи перед тобой стоят? Добавь, пожалуйста\n",
    "</div>"
   ]
  },
  {
   "cell_type": "code",
   "execution_count": 1,
   "id": "d9014fab",
   "metadata": {
    "id": "d9014fab"
   },
   "outputs": [],
   "source": [
    "import pandas as pd\n",
    "import math as mth\n",
    "import matplotlib.pyplot as plt\n",
    "import seaborn as sns\n",
    "from datetime import timedelta, datetime\n",
    "from scipy import stats as st \n",
    "from sklearn.preprocessing import StandardScaler\n",
    "from scipy.cluster.hierarchy import dendrogram, linkage\n",
    "from sklearn.cluster import KMeans"
   ]
  },
  {
   "cell_type": "code",
   "execution_count": 2,
   "id": "65731fd0",
   "metadata": {
    "id": "65731fd0"
   },
   "outputs": [],
   "source": [
    "mobile_sourсes, mobile_dataset = pd.read_csv(\n",
    "    'https://code.s3.yandex.net/datasets/mobile_soures.csv'\n",
    "    ), pd.read_csv('https://code.s3.yandex.net/datasets/mobile_dataset.csv')"
   ]
  },
  {
   "cell_type": "markdown",
   "id": "2y7gkq4u6hY3",
   "metadata": {
    "id": "2y7gkq4u6hY3"
   },
   "source": [
    "## 1. Предобработка данных"
   ]
  },
  {
   "cell_type": "markdown",
   "id": "FP0nvFMQAG9S",
   "metadata": {
    "id": "FP0nvFMQAG9S"
   },
   "source": [
    "### 1.1 Изучение общей информации."
   ]
  },
  {
   "cell_type": "code",
   "execution_count": 3,
   "id": "b0dde6a1",
   "metadata": {
    "colab": {
     "base_uri": "https://localhost:8080/"
    },
    "id": "b0dde6a1",
    "outputId": "2cb3f11f-866a-4114-884d-b49c473dcee4"
   },
   "outputs": [
    {
     "name": "stdout",
     "output_type": "stream",
     "text": [
      "<class 'pandas.core.frame.DataFrame'>\n",
      "RangeIndex: 4293 entries, 0 to 4292\n",
      "Data columns (total 2 columns):\n",
      " #   Column  Non-Null Count  Dtype \n",
      "---  ------  --------------  ----- \n",
      " 0   userId  4293 non-null   object\n",
      " 1   source  4293 non-null   object\n",
      "dtypes: object(2)\n",
      "memory usage: 67.2+ KB\n",
      "duplicated sum: 0\n",
      "--------------------------------------\n",
      "<class 'pandas.core.frame.DataFrame'>\n",
      "RangeIndex: 74197 entries, 0 to 74196\n",
      "Data columns (total 3 columns):\n",
      " #   Column      Non-Null Count  Dtype \n",
      "---  ------      --------------  ----- \n",
      " 0   event.time  74197 non-null  object\n",
      " 1   event.name  74197 non-null  object\n",
      " 2   user.id     74197 non-null  object\n",
      "dtypes: object(3)\n",
      "memory usage: 1.7+ MB\n",
      "duplicated sum: 0\n",
      "--------------------------------------\n"
     ]
    }
   ],
   "source": [
    "for datasets in mobile_sourсes, mobile_dataset:\n",
    "    datasets.info()\n",
    "    print('duplicated sum:', datasets.duplicated().sum())\n",
    "    print('--------------------------------------')"
   ]
  },
  {
   "cell_type": "markdown",
   "id": "0g5h4zzp6oJ9",
   "metadata": {
    "id": "0g5h4zzp6oJ9"
   },
   "source": [
    "Видим неудобные названия колонок в датафреймах. Приведем их в змеиный регистр."
   ]
  },
  {
   "cell_type": "markdown",
   "id": "gzUJPI1PAOiC",
   "metadata": {
    "id": "gzUJPI1PAOiC"
   },
   "source": [
    "### 1.2 Приведение данных к соответствующему типу."
   ]
  },
  {
   "cell_type": "code",
   "execution_count": 4,
   "id": "b84a1d79",
   "metadata": {
    "id": "b84a1d79"
   },
   "outputs": [],
   "source": [
    "mobile_sourсes.rename(columns={\n",
    "    'userId':'user_id'\n",
    "    }, inplace=True)\n",
    "\n",
    "mobile_dataset.rename(columns={\n",
    "    'user.id':'user_id', \n",
    "    'event.time':'event_time', \n",
    "    'event.name':'event_name'\n",
    "    }, inplace=True)\n",
    "\n",
    "mobile_dataset['event_time'] = pd.to_datetime(\n",
    "    mobile_dataset['event_time'], format='%Y.%m.%d %H:%M:%S'\n",
    "    ).dt.round('1S')\n",
    "\n",
    "mobile_dataset['event_name'].replace(\n",
    "    'show_contacts', 'contacts_show', inplace=True\n",
    "    )\n",
    "mobile_dataset.drop_duplicates(inplace=True)\n",
    "mobile_dataset.reset_index(drop=True, inplace=True)"
   ]
  },
  {
   "cell_type": "markdown",
   "id": "924cbd5c",
   "metadata": {},
   "source": [
    "<div class=\"alert alert-success\" style=\"border-radius: 15px; box-shadow: 4px 4px 4px; border: 1px solid \" > <b> ⬆ Комментарии от тимлида ✔️ : </b> \n",
    "\n",
    "На этом этапе всё хорошо. Ты корректно выгрузил данные и посмотрел их содержимое. Выполнил первичную проверку на пропуски и дубликаты. Можно приступать к следующему шагу\n",
    "   \n",
    "</div>"
   ]
  },
  {
   "cell_type": "markdown",
   "id": "ZRNc9__PAka7",
   "metadata": {
    "id": "ZRNc9__PAka7"
   },
   "source": [
    "## 2. Исследовательский анализ"
   ]
  },
  {
   "cell_type": "code",
   "execution_count": 5,
   "id": "a687fe67",
   "metadata": {
    "colab": {
     "base_uri": "https://localhost:8080/"
    },
    "id": "a687fe67",
    "outputId": "990b4a73-a693-4983-bf10-8d51d729a99a"
   },
   "outputs": [
    {
     "name": "stdout",
     "output_type": "stream",
     "text": [
      "total users: 4293\n"
     ]
    }
   ],
   "source": [
    "print('total users:', mobile_dataset['user_id'].nunique())"
   ]
  },
  {
   "cell_type": "markdown",
   "id": "IvU_Q8rB7CkO",
   "metadata": {
    "id": "IvU_Q8rB7CkO"
   },
   "source": [
    "Общее количество пользователей в датафрейме - 4293\n"
   ]
  },
  {
   "cell_type": "code",
   "execution_count": 6,
   "id": "607ae590",
   "metadata": {
    "colab": {
     "base_uri": "https://localhost:8080/"
    },
    "id": "607ae590",
    "outputId": "5dd052a1-dd58-440b-da2c-31a94350ea56"
   },
   "outputs": [
    {
     "name": "stdout",
     "output_type": "stream",
     "text": [
      "date start: 2019-10-07 00:00:00\n",
      "date end: 2019-11-03 23:58:13\n"
     ]
    }
   ],
   "source": [
    "print('date start:', mobile_dataset['event_time'].min())\n",
    "print('date end:',mobile_dataset['event_time'].max())"
   ]
  },
  {
   "cell_type": "markdown",
   "id": "rev0S4sU7E6i",
   "metadata": {
    "id": "rev0S4sU7E6i"
   },
   "source": [
    "Данные в датафрейме начинаются с 2019-10-07 00:00:00 и заканчиваются 2019-11-03 23:58:13"
   ]
  },
  {
   "cell_type": "code",
   "execution_count": 7,
   "id": "3d98f8e0",
   "metadata": {
    "colab": {
     "base_uri": "https://localhost:8080/"
    },
    "id": "3d98f8e0",
    "outputId": "598981e8-1656-4d4d-ca6b-ba64221f8e81"
   },
   "outputs": [
    {
     "data": {
      "text/plain": [
       "source\n",
       "google    1129\n",
       "other     1230\n",
       "yandex    1934\n",
       "Name: user_id, dtype: int64"
      ]
     },
     "execution_count": 7,
     "metadata": {},
     "output_type": "execute_result"
    }
   ],
   "source": [
    "df = mobile_dataset.merge(mobile_sourсes, on='user_id')\n",
    "\n",
    "df.groupby('source')['user_id'].nunique()"
   ]
  },
  {
   "cell_type": "markdown",
   "id": "VkVMi6xI7QEp",
   "metadata": {
    "id": "VkVMi6xI7QEp"
   },
   "source": [
    "Так пользователи распределены по источникам"
   ]
  },
  {
   "cell_type": "markdown",
   "id": "sd0O3YcvAsni",
   "metadata": {
    "id": "sd0O3YcvAsni"
   },
   "source": [
    "### 2.1 Создание пользовательских ссесий."
   ]
  },
  {
   "cell_type": "markdown",
   "id": "WlZqs4vN7XYr",
   "metadata": {
    "id": "WlZqs4vN7XYr"
   },
   "source": [
    "Выделим сессии с таймаутом в 30 минут"
   ]
  },
  {
   "cell_type": "code",
   "execution_count": 8,
   "id": "31eebae0",
   "metadata": {
    "id": "31eebae0"
   },
   "outputs": [],
   "source": [
    "df['session_id'] = df.groupby(['user_id',(\n",
    "    df.groupby('user_id')['event_time'].diff() > pd.Timedelta('30Min')\n",
    "    ).cumsum()], sort=False).ngroup() + 1"
   ]
  },
  {
   "cell_type": "markdown",
   "id": "de0e9c2e",
   "metadata": {},
   "source": [
    "<div class=\"alert alert-warning\" style=\"border-radius: 15px; box-shadow: 4px 4px 4px; border: 1px solid \" ><b> ⬆ Комментарии от тимлида ⚠️ : </b> \n",
    "\n",
    "В реальной практике тебе придется обосновать почему именно 30 мин. Было бы неплохо аргументировать свое решение)\n",
    "</div>"
   ]
  },
  {
   "cell_type": "markdown",
   "id": "IujQY4In7kOm",
   "metadata": {
    "id": "IujQY4In7kOm"
   },
   "source": [
    "Посчитаем длительность сессий"
   ]
  },
  {
   "cell_type": "code",
   "execution_count": 9,
   "id": "8823f9c9",
   "metadata": {
    "id": "8823f9c9"
   },
   "outputs": [],
   "source": [
    "df = df.merge(\n",
    "    (df.groupby('session_id')['event_time'].max() - \n",
    "     df.groupby('session_id')['event_time'].min()\n",
    "     ).dt.total_seconds().div(60).astype(int).reset_index(),\n",
    "     on='session_id')\n",
    "\n",
    "df.rename(columns={\n",
    "    'event_time_x':'event_time', \n",
    "    'event_time_y':'session_time'\n",
    "    }, inplace=True)"
   ]
  },
  {
   "cell_type": "markdown",
   "id": "af4feff2",
   "metadata": {},
   "source": [
    "<div class=\"alert alert-success\" style=\"border-radius: 15px; box-shadow: 4px 4px 4px; border: 1px solid \" > <b> ⬆ Комментарии от тимлида ✔️ : </b> \n",
    "\n",
    "Сессии выделены корректно\n",
    "   \n",
    "</div>"
   ]
  },
  {
   "cell_type": "markdown",
   "id": "5d8rNfZd7ntQ",
   "metadata": {
    "id": "5d8rNfZd7ntQ"
   },
   "source": [
    "Уберем слишком короткие и слишком длинные сессии, скорее всего это выборсы"
   ]
  },
  {
   "cell_type": "code",
   "execution_count": 10,
   "id": "8wvPMtvP2XMn",
   "metadata": {
    "id": "8wvPMtvP2XMn"
   },
   "outputs": [],
   "source": [
    "df = df.query(\n",
    "    'session_time > session_time.quantile(0.05) and \\\n",
    "     session_time < session_time.quantile(0.95)'\n",
    "     )"
   ]
  },
  {
   "cell_type": "markdown",
   "id": "g5pT92Ki7vB0",
   "metadata": {
    "id": "g5pT92Ki7vB0"
   },
   "source": [
    "Посмотрим на длительность сесиий после фильтрации:"
   ]
  },
  {
   "cell_type": "code",
   "execution_count": 11,
   "id": "L3a-qig_1uIF",
   "metadata": {
    "colab": {
     "base_uri": "https://localhost:8080/"
    },
    "id": "L3a-qig_1uIF",
    "outputId": "415e165b-29c7-42cc-8587-5da623509772"
   },
   "outputs": [
    {
     "name": "stdout",
     "output_type": "stream",
     "text": [
      "session time 1 - 102\n"
     ]
    }
   ],
   "source": [
    "print('session time', df['session_time'].min(), '-', df['session_time'].max())"
   ]
  },
  {
   "cell_type": "markdown",
   "id": "k9xtEqyL7uFP",
   "metadata": {
    "id": "k9xtEqyL7uFP"
   },
   "source": [
    "Посмотрим как на общее количество пользователей после фильтрации и как они \\\n",
    "распределены по источникам:"
   ]
  },
  {
   "cell_type": "code",
   "execution_count": 12,
   "id": "n_BgO5ZVglQX",
   "metadata": {
    "colab": {
     "base_uri": "https://localhost:8080/"
    },
    "id": "n_BgO5ZVglQX",
    "outputId": "67737523-f93d-4376-9538-af4d45a0c91d"
   },
   "outputs": [
    {
     "name": "stdout",
     "output_type": "stream",
     "text": [
      "total users: 4024\n"
     ]
    },
    {
     "data": {
      "text/plain": [
       "source\n",
       "google    1079\n",
       "other     1116\n",
       "yandex    1829\n",
       "Name: user_id, dtype: int64"
      ]
     },
     "execution_count": 12,
     "metadata": {},
     "output_type": "execute_result"
    }
   ],
   "source": [
    "print('total users:', df['user_id'].nunique())\n",
    "df.groupby('source')['user_id'].nunique()"
   ]
  },
  {
   "cell_type": "markdown",
   "id": "E_VNNMYr8EzM",
   "metadata": {
    "id": "E_VNNMYr8EzM"
   },
   "source": [
    "## 3. Выделение пользователей на группы на основе их действий"
   ]
  },
  {
   "cell_type": "markdown",
   "id": "luTLTmSu8TxW",
   "metadata": {
    "id": "luTLTmSu8TxW"
   },
   "source": [
    "Преобразуем датафрейм:"
   ]
  },
  {
   "cell_type": "markdown",
   "id": "0027276d",
   "metadata": {},
   "source": [
    "<div class=\"alert alert-warning\" style=\"border-radius: 15px; box-shadow: 4px 4px 4px; border: 1px solid \" ><b> ⬆ Комментарии от тимлида ⚠️ : </b> \n",
    "\n",
    "В реальной практике тебе придется обосновать почему именно такое разделение. Было бы неплохо аргументировать свое решение) Предположить какие результаты получишь и сравнивать ожидание\\реальность\n",
    "</div>"
   ]
  },
  {
   "cell_type": "code",
   "execution_count": 13,
   "id": "oESuS7NbXNOf",
   "metadata": {
    "id": "oESuS7NbXNOf"
   },
   "outputs": [],
   "source": [
    "df_dummies = pd.get_dummies(data=df, columns=['event_name', 'source'])"
   ]
  },
  {
   "cell_type": "code",
   "execution_count": 14,
   "id": "7AztFUYPb7KA",
   "metadata": {
    "id": "7AztFUYPb7KA"
   },
   "outputs": [],
   "source": [
    "df_dummies = df_dummies.groupby('user_id').mean().drop(['session_id'], axis=1)\n",
    "\n",
    "df_dummies = df_dummies.merge(\n",
    "    df.groupby('user_id')['session_id'].count(), on='user_id'\n",
    "    ).rename(columns={'session_id': 'session_count'})"
   ]
  },
  {
   "cell_type": "markdown",
   "id": "gOs-bq--8cXo",
   "metadata": {
    "id": "gOs-bq--8cXo"
   },
   "source": [
    "Стандартизируем данные"
   ]
  },
  {
   "cell_type": "code",
   "execution_count": 15,
   "id": "Np5o_3MjdKzT",
   "metadata": {
    "id": "Np5o_3MjdKzT"
   },
   "outputs": [],
   "source": [
    "sc = StandardScaler()\n",
    "X_sc = sc.fit_transform(df_dummies)"
   ]
  },
  {
   "cell_type": "code",
   "execution_count": 16,
   "id": "ngeuimAOepcj",
   "metadata": {
    "id": "ngeuimAOepcj"
   },
   "outputs": [],
   "source": [
    "linked = linkage(X_sc, method='ward')"
   ]
  },
  {
   "cell_type": "markdown",
   "id": "4EWzAxLl8gEH",
   "metadata": {
    "id": "4EWzAxLl8gEH"
   },
   "source": [
    "Отрисуем класстеры"
   ]
  },
  {
   "cell_type": "code",
   "execution_count": 17,
   "id": "RQRScINwfAvh",
   "metadata": {
    "id": "RQRScINwfAvh"
   },
   "outputs": [
    {
     "data": {
      "image/png": "[encoded data removed]",
      "text/plain": [
       "<Figure size 1080x720 with 1 Axes>"
      ]
     },
     "metadata": {
      "needs_background": "light"
     },
     "output_type": "display_data"
    }
   ],
   "source": [
    "plt.figure(figsize=(15, 10))\n",
    "dendrogram(linked, orientation='top')\n",
    "plt.title('Hierarchial clustering for GYM')\n",
    "plt.show()"
   ]
  },
  {
   "cell_type": "markdown",
   "id": "D-D0jJc-8jrK",
   "metadata": {
    "id": "D-D0jJc-8jrK"
   },
   "source": [
    "Выделим 3 классетера на основе графика"
   ]
  },
  {
   "cell_type": "code",
   "execution_count": 18,
   "id": "GtgHAGEjjeCM",
   "metadata": {
    "id": "GtgHAGEjjeCM"
   },
   "outputs": [],
   "source": [
    "km = KMeans(n_clusters = 3, random_state=0)\n",
    "labels = km.fit_predict(X_sc)\n",
    "df_dummies['labels'] = labels"
   ]
  },
  {
   "cell_type": "code",
   "execution_count": 19,
   "id": "THa8l9DlvyBT",
   "metadata": {
    "id": "THa8l9DlvyBT"
   },
   "outputs": [],
   "source": [
    "df = df.merge(df_dummies['labels'].reset_index(), on='user_id')"
   ]
  },
  {
   "cell_type": "markdown",
   "id": "79wY68Ro8pRi",
   "metadata": {
    "id": "79wY68Ro8pRi"
   },
   "source": [
    "Посмотрим как пользователи распределились по группам"
   ]
  },
  {
   "cell_type": "markdown",
   "id": "f8f8ebfa",
   "metadata": {},
   "source": [
    "<div class=\"alert alert-success\" style=\"border-radius: 15px; box-shadow: 4px 4px 4px; border: 1px solid \" > <b> ⬆ Комментарии от тимлида ✔️ : </b> \n",
    "\n",
    "Кластеризация проведена успешно. Можно конечно было подобрать более интересные признаки, связанные с теми же сессиями\n",
    "   \n",
    "</div>"
   ]
  },
  {
   "cell_type": "code",
   "execution_count": 20,
   "id": "bhxO5ya0wkNx",
   "metadata": {
    "id": "bhxO5ya0wkNx"
   },
   "outputs": [
    {
     "data": {
      "text/plain": [
       "labels\n",
       "0     316\n",
       "1    2475\n",
       "2    1233\n",
       "Name: user_id, dtype: int64"
      ]
     },
     "execution_count": 20,
     "metadata": {},
     "output_type": "execute_result"
    }
   ],
   "source": [
    "df.groupby('labels')['user_id'].nunique()"
   ]
  },
  {
   "cell_type": "code",
   "execution_count": 92,
   "id": "93ce762a",
   "metadata": {},
   "outputs": [],
   "source": [
    "X_sc = pd.DataFrame(data=X_sc, columns=df_dummies.drop('labels', axis=1).columns)"
   ]
  },
  {
   "cell_type": "code",
   "execution_count": 93,
   "id": "c0181e8c",
   "metadata": {},
   "outputs": [],
   "source": [
    "X_sc['labels'] = df_dummies.reset_index()['labels']"
   ]
  },
  {
   "cell_type": "code",
   "execution_count": 95,
   "id": "76945aa0",
   "metadata": {},
   "outputs": [
    {
     "name": "stderr",
     "output_type": "stream",
     "text": [
      "/var/folders/79/fgq9pz2s7qdf3txm_m3k6v7w0000gn/T/ipykernel_37622/408983567.py:3: UserWarning: FixedFormatter should only be used together with FixedLocator\n",
      "  ax.set_xticklabels(\n"
     ]
    },
    {
     "data": {
      "image/png": "[encoded data removed]",
      "text/plain": [
       "<Figure size 1440x504 with 1 Axes>"
      ]
     },
     "metadata": {
      "needs_background": "light"
     },
     "output_type": "display_data"
    }
   ],
   "source": [
    "plt.figure(figsize=(20,7))\n",
    "ax = sns.lineplot(data=X_sc.groupby('labels').mean().T)\n",
    "ax.set_xticklabels(\n",
    "    [i.replace('event_name_', '') for i in df_dummies.columns],\n",
    "    fontsize = 10,\n",
    "    rotation = 45\n",
    ")\n",
    "plt.title('Портрет пользователя')\n",
    "plt.xlabel('Название событий')\n",
    "plt.ylabel('Относительная велечина')\n",
    "ax.grid(True)\n",
    "plt.show()"
   ]
  },
  {
   "cell_type": "markdown",
   "id": "2361574c",
   "metadata": {},
   "source": [
    "График говорит сам за себя. <br>\n",
    "Пользователям из 2 группы отностительно других групп меньше всего/не показывали рекомендованные объясвления. <br>\n",
    "Пользователи из 2 группы предпочитают листать фото карточек.<br>\n",
    "Пользователи из группы 0 часто пользуются поиском, видимо не находят в поиске того, чего искали. <br>\n",
    "Пользователи из группы 1 чаще проводят время в приложении, им часто показывают рекомндованные объявления. <br>"
   ]
  },
  {
   "cell_type": "markdown",
   "id": "a9320027",
   "metadata": {},
   "source": [
    "<div class=\"alert alert-danger\" style=\"border-radius: 15px; box-shadow: 4px 4px 4px; border: 1px solid \" > <b>Комментарии от тимлида ❌ : </b>\n",
    "\n",
    "Здесь явно не хватает описание портрета пользователей в разрезе кластеров. Какие группы у тебя получились. Добавь пожалуйста\n",
    "</div>"
   ]
  },
  {
   "cell_type": "markdown",
   "id": "bswqpwUiA_vU",
   "metadata": {
    "id": "bswqpwUiA_vU"
   },
   "source": [
    "## 3. Ответы на вопросы заказчика\n"
   ]
  },
  {
   "cell_type": "markdown",
   "id": "zurP9uXN89mK",
   "metadata": {
    "id": "zurP9uXN89mK"
   },
   "source": [
    "### 3.1 Какие пользователи склонны часто возвращаться в мобильное приложение?"
   ]
  },
  {
   "cell_type": "markdown",
   "id": "5LA02Nyy8vet",
   "metadata": {
    "id": "5LA02Nyy8vet"
   },
   "source": [
    "Выделим профили пользователей"
   ]
  },
  {
   "cell_type": "code",
   "execution_count": 21,
   "id": "XdXXYVAFPSSZ",
   "metadata": {
    "id": "XdXXYVAFPSSZ"
   },
   "outputs": [],
   "source": [
    "profiles = df.sort_values(by=['user_id', 'event_time']).groupby('user_id').agg(\n",
    "    {\n",
    "        'event_time': 'first',\n",
    "        'source': 'first',\n",
    "        'labels': 'first'\n",
    "        }).rename(columns={\n",
    "            'source': 'channel'\n",
    "            }).reset_index()\n",
    "\n",
    "profiles['dt'] = profiles['event_time'].dt.date"
   ]
  },
  {
   "cell_type": "markdown",
   "id": "P8sv2xhn8zOV",
   "metadata": {
    "id": "P8sv2xhn8zOV"
   },
   "source": [
    "Выделим сессии и время старта"
   ]
  },
  {
   "cell_type": "code",
   "execution_count": 22,
   "id": "RFbEhdPiaYA2",
   "metadata": {
    "id": "RFbEhdPiaYA2"
   },
   "outputs": [],
   "source": [
    "sessions = df.sort_values(\n",
    "    by=['session_id', 'event_time']).groupby('session_id').agg(\n",
    "    {\n",
    "        'event_time': 'first',\n",
    "        'user_id': 'first'\n",
    "        }).rename(columns={\n",
    "            'event_time': 'session_start'\n",
    "            }).reset_index()\n",
    "sessions['session_start'] = sessions['session_start'].dt.date\n",
    "sessions = sessions.drop('session_id', axis=1)"
   ]
  },
  {
   "cell_type": "code",
   "execution_count": 23,
   "id": "Ik9x3NUWeJa4",
   "metadata": {
    "code_folding": [
     0
    ],
    "id": "Ik9x3NUWeJa4"
   },
   "outputs": [],
   "source": [
    "def get_retention(profiles,sessions,observation_date,horizon_days,dimensions=[],\n",
    "                  ignore_horizon=False):\n",
    "    \n",
    "    dimensions = ['labels'] + dimensions\n",
    "\n",
    "    # исключаем пользователей, не «доживших» до горизонта анализа\n",
    "    last_suitable_acquisition_date = observation_date\n",
    "    if not ignore_horizon:\n",
    "        last_suitable_acquisition_date = observation_date - timedelta(\n",
    "            days=horizon_days - 1\n",
    "        )\n",
    "    result_raw = profiles.query('dt <= @last_suitable_acquisition_date')\n",
    "\n",
    "    # собираем «сырые» данные для расчёта удержания\n",
    "    result_raw = result_raw.merge(\n",
    "        sessions[['user_id', 'session_start']], on='user_id', how='left'\n",
    "    )\n",
    "    result_raw['lifetime'] = (\n",
    "        result_raw['session_start'] - result_raw['dt']\n",
    "    ).dt.days\n",
    "\n",
    "    # функция для группировки таблицы по желаемым признакам\n",
    "    def group_by_dimensions(df, dims, horizon_days):\n",
    "        result = df.pivot_table(\n",
    "            index=dims, columns='lifetime', values='user_id', aggfunc='nunique'\n",
    "        )\n",
    "        cohort_sizes = (\n",
    "            df.groupby(dims)\n",
    "            .agg({'user_id': 'nunique'})\n",
    "            .rename(columns={'user_id': 'cohort_size'})\n",
    "        )\n",
    "        result = cohort_sizes.merge(result, on=dims, how='left').fillna(0)\n",
    "        result = result.div(result['cohort_size'], axis=0)\n",
    "        result = result[['cohort_size'] + list(range(horizon_days))]\n",
    "        result['cohort_size'] = cohort_sizes\n",
    "        return result\n",
    "\n",
    "    # получаем таблицу удержания\n",
    "    \n",
    "    result_grouped = group_by_dimensions(result_raw, dimensions, horizon_days)\n",
    "\n",
    "    # получаем таблицу динамики удержания\n",
    "    result_in_time = group_by_dimensions(\n",
    "        result_raw, dimensions + ['dt'], horizon_days\n",
    "    )\n",
    "\n",
    "    # возвращаем обе таблицы и сырые данные\n",
    "    return result_raw, result_grouped, result_in_time"
   ]
  },
  {
   "cell_type": "code",
   "execution_count": 24,
   "id": "VlsouJIFerv-",
   "metadata": {
    "id": "VlsouJIFerv-"
   },
   "outputs": [],
   "source": [
    "observation_date = datetime(2019, 11, 3).date()\n",
    "horizon_days = 7\n",
    "\n",
    "retention_raw, retention_grouped, retention_history = get_retention(\n",
    "    profiles, sessions, observation_date, horizon_days)"
   ]
  },
  {
   "cell_type": "code",
   "execution_count": 25,
   "id": "QvqkUZYJViDI",
   "metadata": {
    "code_folding": [
     0
    ],
    "id": "QvqkUZYJViDI"
   },
   "outputs": [],
   "source": [
    "def filter_data(df, window):\n",
    "    # для каждого столбца применяем скользящее среднее\n",
    "    for column in df.columns.values:\n",
    "        df[column] = df[column].rolling(window).mean() \n",
    "    return df"
   ]
  },
  {
   "cell_type": "code",
   "execution_count": 26,
   "id": "DAJz8CIim2G8",
   "metadata": {
    "code_folding": [
     0
    ],
    "id": "DAJz8CIim2G8"
   },
   "outputs": [],
   "source": [
    "def plot_retention(retention, retention_history, horizon, window=7):\n",
    "\n",
    "    # задаём размер сетки для графиков\n",
    "    plt.figure(figsize=(15, 10))\n",
    "\n",
    "    # исключаем размеры когорт и удержание первого дня\n",
    "    retention = retention.drop(columns=['cohort_size', 0])\n",
    "    # в таблице динамики оставляем только нужный лайфтайм\n",
    "    retention_history = retention_history.drop(columns=['cohort_size'])[\n",
    "        [horizon - 1]\n",
    "    ]\n",
    "\n",
    "    # если в индексах таблицы удержания только labels,\n",
    "    # добавляем второй признак — cohort\n",
    "    if retention.index.nlevels == 1:\n",
    "        retention['cohort'] = 'All users'\n",
    "        retention = retention.reset_index().set_index(['cohort', 'labels'])\n",
    "\n",
    "    # в таблице графиков — два столбца и две строки, четыре ячейки\n",
    "    # в первой строим кривые удержания  пользователей\n",
    "    ax1 = plt.subplot(2, 2, 1)\n",
    "    retention.droplevel('labels').T.plot(\n",
    "        grid=True, ax=ax1\n",
    "    )\n",
    "    plt.legend()\n",
    "    plt.xlabel('Лайфтайм')\n",
    "    plt.title('Удержание  пользователей')\n",
    "\n",
    "    # в третьей ячейке — динамика удержания\n",
    "    ax3 = plt.subplot(2, 2, 2)\n",
    "\n",
    "    # фильтруем данные и строим график\n",
    "    filtered_data = retention_history.pivot_table(\n",
    "        index='dt', columns='labels', values=horizon - 1, aggfunc='mean'\n",
    "    )\n",
    "    filter_data(filtered_data, window).plot(grid=True, ax=ax3)\n",
    "    plt.xlabel('Дата привлечения')\n",
    "    plt.title(\n",
    "        'Динамика удержания пользователей на {}-й день'.format(\n",
    "            horizon\n",
    "        )\n",
    "    )\n",
    "\n",
    "    plt.tight_layout()\n",
    "    plt.show()"
   ]
  },
  {
   "cell_type": "code",
   "execution_count": 27,
   "id": "sq417-M8weYK",
   "metadata": {
    "id": "sq417-M8weYK"
   },
   "outputs": [
    {
     "data": {
      "image/png": "[encoded data removed]",
      "text/plain": [
       "<Figure size 1080x720 with 2 Axes>"
      ]
     },
     "metadata": {
      "needs_background": "light"
     },
     "output_type": "display_data"
    }
   ],
   "source": [
    "plot_retention(retention_grouped, retention_history, horizon_days) "
   ]
  },
  {
   "cell_type": "markdown",
   "id": "a03b73a9",
   "metadata": {},
   "source": [
    "<div class=\"alert alert-success\" style=\"border-radius: 15px; box-shadow: 4px 4px 4px; border: 1px solid \" > <b> ⬆ Комментарии от тимлида ✔️ : </b> \n",
    "\n",
    "Отлично! Retention rate рассчитан верно и графики оформленые корректно\n",
    "   \n",
    "</div>"
   ]
  },
  {
   "cell_type": "markdown",
   "id": "A5mPKQ8S9JJl",
   "metadata": {
    "id": "A5mPKQ8S9JJl"
   },
   "source": [
    "Лучше всего удерживаются пользователи из 2 группы"
   ]
  },
  {
   "cell_type": "markdown",
   "id": "jrLiyw8CBReM",
   "metadata": {
    "id": "jrLiyw8CBReM"
   },
   "source": [
    "### 3.2 Какие пользователи часто делают целевое событие (contacts_show)"
   ]
  },
  {
   "cell_type": "code",
   "execution_count": 28,
   "id": "95tOIEuM0bdY",
   "metadata": {
    "id": "95tOIEuM0bdY"
   },
   "outputs": [],
   "source": [
    "action_frequency = pd.get_dummies(data=df, columns=['event_name'])\n",
    "action_frequency = action_frequency.groupby('labels').sum().drop(\n",
    "    ['session_id', 'session_time'], axis=1\n",
    "    )\n",
    "total = action_frequency.sum(axis=1)\n",
    "for col in action_frequency.columns:\n",
    "    action_frequency[col] = action_frequency[col] / total"
   ]
  },
  {
   "cell_type": "code",
   "execution_count": 29,
   "id": "oKM4PBgi19dm",
   "metadata": {
    "id": "oKM4PBgi19dm"
   },
   "outputs": [
    {
     "name": "stderr",
     "output_type": "stream",
     "text": [
      "/var/folders/79/fgq9pz2s7qdf3txm_m3k6v7w0000gn/T/ipykernel_37622/108109407.py:3: UserWarning: FixedFormatter should only be used together with FixedLocator\n",
      "  ax.set_xticklabels(\n"
     ]
    },
    {
     "data": {
      "image/png": "[encoded data removed]",
      "text/plain": [
       "<Figure size 1440x504 with 1 Axes>"
      ]
     },
     "metadata": {
      "needs_background": "light"
     },
     "output_type": "display_data"
    }
   ],
   "source": [
    "plt.figure(figsize=(20,7))\n",
    "ax = sns.lineplot(data=action_frequency.T)\n",
    "ax.set_xticklabels(\n",
    "    [i.replace('event_name_', '') for i in action_frequency.columns]\n",
    "    )\n",
    "plt.title('частота действий')\n",
    "plt.xlabel('event name')\n",
    "plt.ylabel('отношение')\n",
    "ax.grid(True)\n",
    "plt.show()"
   ]
  },
  {
   "cell_type": "markdown",
   "id": "FvCcU5Pi9RI0",
   "metadata": {
    "id": "FvCcU5Pi9RI0"
   },
   "source": [
    "Пользователи из 2 группы чаще всего делают целевое действие"
   ]
  },
  {
   "cell_type": "markdown",
   "id": "JS4r8XgP991R",
   "metadata": {
    "id": "JS4r8XgP991R"
   },
   "source": [
    "### 3.3 Конверсия в просмотр контаков"
   ]
  },
  {
   "cell_type": "code",
   "execution_count": 30,
   "id": "d2rRuZljFy9y",
   "metadata": {
    "id": "d2rRuZljFy9y"
   },
   "outputs": [],
   "source": [
    "purchases = df.query('event_name == \"contacts_show\"')[['user_id', 'event_time', \n",
    "                                                       'event_name']]\n",
    "purchases = purchases.rename(columns={'event_time':'event_dt'})\n",
    "purchases['event_dt'] = purchases['event_dt'].dt.date"
   ]
  },
  {
   "cell_type": "code",
   "execution_count": 31,
   "id": "z0muXPmXrJ6f",
   "metadata": {
    "code_folding": [
     0
    ],
    "id": "z0muXPmXrJ6f"
   },
   "outputs": [],
   "source": [
    "def get_conversion(profiles,purchases,observation_date,horizon_days,\n",
    "                   dimensions=['labels'],ignore_horizon=False):\n",
    "\n",
    "    # исключаем пользователей, не «доживших» до горизонта анализа\n",
    "    last_suitable_acquisition_date = observation_date\n",
    "    if not ignore_horizon:\n",
    "        last_suitable_acquisition_date = observation_date - timedelta(\n",
    "            days=horizon_days - 1\n",
    "        )\n",
    "    result_raw = profiles.query('dt <= @last_suitable_acquisition_date')\n",
    "\n",
    "    # определяем дату и время первой покупки для каждого пользователя\n",
    "    first_purchases = (\n",
    "        purchases.sort_values(by=['user_id', 'event_dt'])\n",
    "        .groupby('user_id')\n",
    "        .agg({'event_dt': 'first'})\n",
    "        .reset_index()\n",
    "    )\n",
    "\n",
    "    # добавляем данные о покупках в профили\n",
    "    result_raw = result_raw.merge(\n",
    "        first_purchases[['user_id', 'event_dt']], on='user_id', how='left'\n",
    "    )\n",
    "\n",
    "    # рассчитываем лайфтайм для каждой покупки\n",
    "    result_raw['lifetime'] = (\n",
    "        result_raw['event_dt'] - result_raw['dt']\n",
    "    ).dt.days\n",
    "\n",
    "    # функция для группировки таблицы по желаемым признакам\n",
    "    def group_by_dimensions(df, dims, horizon_days):\n",
    "        result = df.pivot_table(\n",
    "            index=dims, columns='lifetime', values='user_id', aggfunc='nunique'\n",
    "        )\n",
    "\n",
    "        result = result.fillna(0).cumsum(axis = 1)\n",
    "        cohort_sizes = (\n",
    "            df.groupby(dims)\n",
    "            .agg({'user_id': 'nunique'})\n",
    "            .rename(columns={'user_id': 'cohort_size'})\n",
    "        )\n",
    "        result = cohort_sizes.merge(result, on=dims, how='left').fillna(0)\n",
    "        # делим каждую «ячейку» в строке на размер когорты\n",
    "        # и получаем conversion rate\n",
    "        result = result.div(result['cohort_size'], axis=0)\n",
    "        result = result[['cohort_size'] + list(range(horizon_days))]\n",
    "        result['cohort_size'] = cohort_sizes\n",
    "        return result\n",
    "\n",
    "    # получаем таблицу конверсии\n",
    "    result_grouped = group_by_dimensions(result_raw, dimensions, horizon_days)\n",
    "\n",
    "    # для таблицы динамики конверсии убираем 'cohort' из dimensions\n",
    "    if 'cohort' in dimensions: \n",
    "        dimensions = []\n",
    "\n",
    "    # получаем таблицу динамики конверсии\n",
    "    result_in_time = group_by_dimensions(\n",
    "        result_raw, dimensions + ['dt'], horizon_days\n",
    "    )\n",
    "\n",
    "    # возвращаем обе таблицы и сырые данные\n",
    "    return result_raw, result_grouped, result_in_time"
   ]
  },
  {
   "cell_type": "code",
   "execution_count": 32,
   "id": "KN9STjub8xg0",
   "metadata": {
    "id": "KN9STjub8xg0"
   },
   "outputs": [],
   "source": [
    "conversion_raw, conversion_grouped, conversion_history = get_conversion(\n",
    "    profiles,purchases,observation_date,horizon_days\n",
    "    )"
   ]
  },
  {
   "cell_type": "code",
   "execution_count": 33,
   "id": "5U-NJLANQE3L",
   "metadata": {
    "code_folding": [
     0
    ],
    "id": "5U-NJLANQE3L"
   },
   "outputs": [],
   "source": [
    "def plot_conversion(conversion, conversion_history, horizon, window=7):\n",
    "\n",
    "    # задаём размер сетки для графиков\n",
    "    plt.figure(figsize=(15, 5))\n",
    "\n",
    "    # исключаем размеры когорт\n",
    "    conversion = conversion.drop(columns=['cohort_size'])\n",
    "    # в таблице динамики оставляем только нужный лайфтайм\n",
    "    conversion_history = conversion_history.drop(columns=['cohort_size'])[\n",
    "        [horizon - 1]\n",
    "    ]\n",
    "\n",
    "    # первый график — кривые конверсии\n",
    "    ax1 = plt.subplot(1, 2, 1)\n",
    "    conversion.T.plot(grid=True, ax=ax1)\n",
    "    plt.legend()\n",
    "    plt.xlabel('Лайфтайм')\n",
    "    plt.title('Конверсия пользователей')\n",
    "\n",
    "    # второй график — динамика конверсии\n",
    "    ax2 = plt.subplot(1, 2, 2, sharey=ax1)\n",
    "    columns = [\n",
    "        # столбцами сводной таблицы станут все столбцы индекса, кроме даты\n",
    "        name for name in conversion_history.index.names if name not in ['dt']\n",
    "    ]\n",
    "    filtered_data = conversion_history.pivot_table(\n",
    "        index='dt', columns=columns, values=horizon - 1, aggfunc='mean'\n",
    "    )\n",
    "    filter_data(filtered_data, window).plot(grid=True, ax=ax2)\n",
    "    plt.xlabel('Дата привлечения')\n",
    "    plt.title('Динамика конверсии пользователей на {}-й день'.format(horizon))\n",
    "\n",
    "    plt.tight_layout()\n",
    "    plt.show()"
   ]
  },
  {
   "cell_type": "code",
   "execution_count": 34,
   "id": "z8j4TPprVEuv",
   "metadata": {
    "id": "z8j4TPprVEuv"
   },
   "outputs": [
    {
     "data": {
      "image/png": "[encoded data removed]",
      "text/plain": [
       "<Figure size 1080x360 with 2 Axes>"
      ]
     },
     "metadata": {
      "needs_background": "light"
     },
     "output_type": "display_data"
    }
   ],
   "source": [
    "plot_conversion(conversion_grouped, conversion_history, horizon_days) "
   ]
  },
  {
   "cell_type": "markdown",
   "id": "41df7332",
   "metadata": {},
   "source": [
    "<div class=\"alert alert-success\" style=\"border-radius: 15px; box-shadow: 4px 4px 4px; border: 1px solid \" > <b> ⬆ Комментарии от тимлида ✔️ : </b> \n",
    "\n",
    "И конверсию ты рассчитал верно по уникальным пользователям\n",
    "   \n",
    "</div>"
   ]
  },
  {
   "cell_type": "markdown",
   "id": "udFKYfJ9-GIC",
   "metadata": {
    "id": "udFKYfJ9-GIC"
   },
   "source": [
    "Самая высокая конверсия у 2 группы, на втором месте группа 1"
   ]
  },
  {
   "cell_type": "markdown",
   "id": "1gyjdv4k-YbO",
   "metadata": {
    "id": "1gyjdv4k-YbO"
   },
   "source": [
    "### 3.3 Время между распространенными событиями"
   ]
  },
  {
   "cell_type": "code",
   "execution_count": 35,
   "id": "YiFninAmgPbs",
   "metadata": {
    "id": "YiFninAmgPbs"
   },
   "outputs": [
    {
     "data": {
      "text/plain": [
       "labels\n",
       "0     24.975081\n",
       "1    310.638298\n",
       "2    216.173682\n",
       "Name: difference_in_time, dtype: float64"
      ]
     },
     "execution_count": 35,
     "metadata": {},
     "output_type": "execute_result"
    }
   ],
   "source": [
    "df['event_name'].replace(\n",
    "    ['search_1', 'search_2', 'search_3', 'search_4',\n",
    "     'search_5', 'search_6', 'search_7'], 'search', inplace=True\n",
    "    )\n",
    "\n",
    "\n",
    "nwdf = df.merge(\n",
    "    df.query('event_name == \"search\"').groupby('session_id').agg(\n",
    "        {'event_time':'min'}).reset_index().rename(\n",
    "            columns={'event_time':'time_contacts_show'}), on='session_id')\n",
    "\n",
    "nwdf = nwdf.merge(\n",
    "    df.groupby('session_id').agg(\n",
    "        {'event_time':'min'}).reset_index().rename(\n",
    "            columns={'event_time':'session_start'}), on='session_id')\n",
    "\n",
    "nwdf['difference_in_time'] = (nwdf['time_contacts_show'] - \n",
    "                            nwdf['session_start']\n",
    "                            ).dt.total_seconds()\n",
    "\n",
    "nwdf.groupby('labels')['difference_in_time'].mean()"
   ]
  },
  {
   "cell_type": "markdown",
   "id": "4303d946",
   "metadata": {},
   "source": [
    "Пользователи из группы 0 быстрее всех начинают пользоваться поиском. <br>\n",
    "Пользователи из группы 1 дольше всех доходят до поиска."
   ]
  },
  {
   "cell_type": "markdown",
   "id": "14c9f110",
   "metadata": {},
   "source": [
    "<div class=\"alert alert-danger\" style=\"border-radius: 15px; box-shadow: 4px 4px 4px; border: 1px solid \" > <b>Комментарии от тимлида ❌ : </b>\n",
    "\n",
    "Ты верно рассчитал показатели в разрезе выделенных групп, но где выводы? Где интерпретация полученных результатов?\n",
    "</div>"
   ]
  },
  {
   "cell_type": "markdown",
   "id": "J31qPZM9_E_o",
   "metadata": {
    "id": "J31qPZM9_E_o"
   },
   "source": [
    "## 4. Проверка статистических гипотиз"
   ]
  },
  {
   "cell_type": "code",
   "execution_count": 36,
   "id": "sJMTcMil_LSK",
   "metadata": {
    "code_folding": [
     0
    ],
    "id": "sJMTcMil_LSK"
   },
   "outputs": [],
   "source": [
    "def z_test(trials, successes, event_name, alpha=.05):\n",
    "    p1 = successes[0] / trials[0] \n",
    "    p2 = successes[1] / trials[1] \n",
    "    \n",
    "    p_combined = (successes[0] + successes[1]) / (trials[0] + trials[1]) \n",
    "    difference = p1 - p2 \n",
    "    z_value = difference / mth.sqrt(p_combined * (1 - p_combined) *\n",
    "                                    (1/trials[0] + 1/trials[1]))\n",
    "    distr = st.norm(0, 1) \n",
    "    p_value = (1 - distr.cdf(abs(z_value))) * 2\n",
    "    print(f'{event_name} p-значение: {p_value}')\n",
    "    \n",
    "    if p_value < alpha:\n",
    "        print(\"Отвергаем нулевую гипотезу: между долями есть значимая разница\")\n",
    "    else:\n",
    "        print(\n",
    "            \"Не получилось отвергнуть нулевую гипотезу: нет оснований считать доли разными\"\n",
    "            )"
   ]
  },
  {
   "cell_type": "markdown",
   "id": "zO9uRW0j_IKd",
   "metadata": {
    "id": "zO9uRW0j_IKd"
   },
   "source": [
    "### 4.1 Первая гипотиза\n",
    "Некоторые пользователи установили приложение по ссылке из yandex, другие — из google.  \\\n",
    "Проверьте гипотезу: две эти группы демонстрируют разную конверсию в просмотры контактов."
   ]
  },
  {
   "cell_type": "markdown",
   "id": "6fWrc68a_bME",
   "metadata": {
    "id": "6fWrc68a_bME"
   },
   "source": [
    "Нулевая гипотиза будет звучать так: доли двух генеральных совокупностей равны. \\\n",
    "Альтернативная гипотиза: доли двух генеральных совокупностей не равны."
   ]
  },
  {
   "cell_type": "markdown",
   "id": "ae66c522",
   "metadata": {},
   "source": [
    "<div class=\"alert alert-success\" style=\"border-radius: 15px; box-shadow: 4px 4px 4px; border: 1px solid \" > <b> ⬆ Комментарии от тимлида ✔️ : </b>  \n",
    "\n",
    "Очень хорошо, что не забыл про формулировку гипотез. Это важный пункт в подобного рода задачах\n",
    "</div>"
   ]
  },
  {
   "cell_type": "code",
   "execution_count": 37,
   "id": "ZdgQ3EoGRexB",
   "metadata": {
    "id": "ZdgQ3EoGRexB"
   },
   "outputs": [
    {
     "name": "stdout",
     "output_type": "stream",
     "text": [
      "contacts_show p-значение: 0.5324381707371875\n",
      "Не получилось отвергнуть нулевую гипотезу: нет оснований считать доли разными\n"
     ]
    }
   ],
   "source": [
    "group_a = df.query('source == \"yandex\"')\n",
    "group_b = df.query('source == \"google\"')\n",
    "\n",
    "a_b_total = [group_a['user_id'].nunique(), group_b['user_id'].nunique()] \n",
    "\n",
    "a_b_show = [group_a.query('event_name == \"contacts_show\"')['user_id'].nunique(), \n",
    "            group_b.query('event_name == \"contacts_show\"')['user_id'].nunique()]\n",
    "\n",
    "z_test(a_b_total, a_b_show, 'contacts_show')"
   ]
  },
  {
   "cell_type": "markdown",
   "id": "bf69eb2b",
   "metadata": {},
   "source": [
    "<div class=\"alert alert-success\" style=\"border-radius: 15px; box-shadow: 4px 4px 4px; border: 1px solid \" > <b> ⬆ Комментарии от тимлида ✔️ : </b>  \n",
    "\n",
    "Методологически проверка гипотез проведена верно и наглядный вывод результатов. Так держать!\n",
    "</div>"
   ]
  },
  {
   "cell_type": "markdown",
   "id": "z0ty-p1qCC2V",
   "metadata": {
    "id": "z0ty-p1qCC2V"
   },
   "source": [
    "### 4.2 Вторая гипотиза"
   ]
  },
  {
   "cell_type": "markdown",
   "id": "8uPRQOGe_6e0",
   "metadata": {
    "id": "8uPRQOGe_6e0"
   },
   "source": [
    "Проверим гипотезу о равенстве конверсии в просмотры контактов у пользователей, \\\n",
    "с длинной ссесией к пользователям с короткой сессией."
   ]
  },
  {
   "cell_type": "markdown",
   "id": "l-HIf-4j_9Zk",
   "metadata": {
    "id": "l-HIf-4j_9Zk"
   },
   "source": [
    "Нулевая гипотиза: конверсии двух групп равны. \\\n",
    "Альтернативная гипотиза: конверсии двух групп не равны."
   ]
  },
  {
   "cell_type": "code",
   "execution_count": 38,
   "id": "hsjmp6Yj_sjY",
   "metadata": {
    "id": "hsjmp6Yj_sjY"
   },
   "outputs": [
    {
     "name": "stdout",
     "output_type": "stream",
     "text": [
      "contacts_show p-значение: 2.9323832251293425e-10\n",
      "Отвергаем нулевую гипотезу: между долями есть значимая разница\n"
     ]
    }
   ],
   "source": [
    "group_a = df.query('session_time > 50')\n",
    "group_b = df.query('session_time < 50')\n",
    "\n",
    "a_b_total = [group_a['user_id'].nunique(), group_b['user_id'].nunique()] \n",
    "\n",
    "a_b_show = [group_a.query('event_name == \"contacts_show\"')['user_id'].nunique(), \n",
    "            group_b.query('event_name == \"contacts_show\"')['user_id'].nunique()]\n",
    "\n",
    "z_test(a_b_total, a_b_show, 'contacts_show')"
   ]
  },
  {
   "cell_type": "markdown",
   "id": "22281041",
   "metadata": {},
   "source": [
    "<div class=\"alert alert-danger\" style=\"border-radius: 15px; box-shadow: 4px 4px 4px; border: 1px solid \" > <b>Комментарии от тимлида ❌ : </b> \n",
    "\n",
    "Почему пороговое значение именно 50? Как это можно обосновать?\n",
    "    \n",
    "Сам расчет верный\n",
    "</div>"
   ]
  },
  {
   "cell_type": "markdown",
   "id": "2916929c",
   "metadata": {},
   "source": [
    "Длинна сессий у нас от 1 до 102 минут. ПОДЕЛИМ ПРИМЕРНО ПОПОЛАМ, так как других предложенй не поступало."
   ]
  },
  {
   "cell_type": "markdown",
   "id": "g1wNNWdpDKv0",
   "metadata": {
    "id": "g1wNNWdpDKv0"
   },
   "source": [
    "## 5. Общий вывод:"
   ]
  },
  {
   "cell_type": "markdown",
   "id": "P0zCAEe_Dd1B",
   "metadata": {
    "id": "P0zCAEe_Dd1B"
   },
   "source": [
    "1. Какие пользователи склонны часто возвращаться в мобильное приложение? - Вторая группа\n",
    "\n",
    "2. Какие пользователи часто делают целевое событие (contacts_show) - Вторая группа\n",
    "\n",
    "3. Как различается время между распространенными событиями пользователей,(например, различаются ли пользователи по группам на основе времени,которое проходит с момента первого использования мобильного приложения и до использования функции поиска)?\n",
    "\n",
    "Пользователям из 2 группы отностительно других групп меньше всего/не показывали рекомендованные объясвления. <br>\n",
    "Пользователи из 2 группы предпочитают листать фото карточек.<br>\n",
    "Пользователи из группы 0 часто пользуются поиском, видимо не находят в поиске того, чего искали. <br>\n",
    "Пользователи из группы 1 чаще проводят время в приложении, им часто показывают рекомндованные объявления. <br>\n",
    "\n",
    "Скорее всего дело в рекомендациях системы. <br>\n",
    "Советую проверить на сколько актуальные объявления показывают пользователям."
   ]
  },
  {
   "cell_type": "markdown",
   "id": "00e0ba2d",
   "metadata": {},
   "source": [
    "<div class=\"alert alert-danger\" style=\"border-radius: 15px; box-shadow: 4px 4px 4px; border: 1px solid \" > <b>Комментарии от тимлида ❌ : </b> \n",
    "\n",
    "А что за пользователи в этих группах? Как можно интерпретировать полученные результаты? Какие рекомендации предлагаются заказчику? Добавь, пожалуйста\n",
    "</div>"
   ]
  }
 ],
 "metadata": {
  "ExecuteTimeLog": [
   {
    "duration": 2721,
    "start_time": "2022-07-23T17:10:10.275Z"
   },
   {
    "duration": 367,
    "start_time": "2022-07-23T17:10:12.998Z"
   },
   {
    "duration": 94,
    "start_time": "2022-07-23T17:10:13.368Z"
   },
   {
    "duration": 67,
    "start_time": "2022-07-23T17:10:13.465Z"
   },
   {
    "duration": 20,
    "start_time": "2022-07-23T17:10:13.548Z"
   },
   {
    "duration": 13,
    "start_time": "2022-07-23T17:10:13.570Z"
   },
   {
    "duration": 40,
    "start_time": "2022-07-23T17:10:13.585Z"
   },
   {
    "duration": 1066,
    "start_time": "2022-07-23T17:10:13.647Z"
   },
   {
    "duration": 31,
    "start_time": "2022-07-23T17:10:14.715Z"
   },
   {
    "duration": 19,
    "start_time": "2022-07-23T17:10:14.750Z"
   },
   {
    "duration": 5,
    "start_time": "2022-07-23T17:10:14.772Z"
   },
   {
    "duration": 40,
    "start_time": "2022-07-23T17:10:14.780Z"
   },
   {
    "duration": 48,
    "start_time": "2022-07-23T17:10:14.822Z"
   },
   {
    "duration": 73,
    "start_time": "2022-07-23T17:10:14.873Z"
   },
   {
    "duration": 12,
    "start_time": "2022-07-23T17:10:14.949Z"
   },
   {
    "duration": 829,
    "start_time": "2022-07-23T17:10:14.963Z"
   },
   {
    "duration": 131985,
    "start_time": "2022-07-23T17:10:15.794Z"
   },
   {
    "duration": 974,
    "start_time": "2022-07-23T17:12:27.781Z"
   },
   {
    "duration": 91,
    "start_time": "2022-07-23T17:12:28.758Z"
   },
   {
    "duration": 22,
    "start_time": "2022-07-23T17:12:28.852Z"
   },
   {
    "duration": 104,
    "start_time": "2022-07-23T17:12:28.877Z"
   },
   {
    "duration": 68,
    "start_time": "2022-07-23T17:12:28.984Z"
   },
   {
    "duration": 11,
    "start_time": "2022-07-23T17:12:29.053Z"
   },
   {
    "duration": 113,
    "start_time": "2022-07-23T17:12:29.066Z"
   },
   {
    "duration": 4,
    "start_time": "2022-07-23T17:12:29.181Z"
   },
   {
    "duration": 23,
    "start_time": "2022-07-23T17:12:29.188Z"
   },
   {
    "duration": 679,
    "start_time": "2022-07-23T17:12:29.214Z"
   },
   {
    "duration": 50,
    "start_time": "2022-07-23T17:12:29.898Z"
   },
   {
    "duration": 368,
    "start_time": "2022-07-23T17:12:29.950Z"
   },
   {
    "duration": 27,
    "start_time": "2022-07-23T17:12:30.320Z"
   },
   {
    "duration": 10,
    "start_time": "2022-07-23T17:12:30.349Z"
   },
   {
    "duration": 86,
    "start_time": "2022-07-23T17:12:30.362Z"
   },
   {
    "duration": 7,
    "start_time": "2022-07-23T17:12:30.451Z"
   },
   {
    "duration": 662,
    "start_time": "2022-07-23T17:12:30.460Z"
   },
   {
    "duration": 66,
    "start_time": "2022-07-23T17:12:31.124Z"
   },
   {
    "duration": 5,
    "start_time": "2022-07-23T17:12:31.192Z"
   },
   {
    "duration": 43,
    "start_time": "2022-07-23T17:12:31.199Z"
   },
   {
    "duration": 40,
    "start_time": "2022-07-23T17:12:31.245Z"
   },
   {
    "duration": 18,
    "start_time": "2022-07-23T17:20:25.576Z"
   },
   {
    "duration": 32,
    "start_time": "2022-07-23T17:22:02.589Z"
   },
   {
    "duration": 7,
    "start_time": "2022-07-23T19:10:50.959Z"
   },
   {
    "duration": 31,
    "start_time": "2022-07-23T19:10:52.322Z"
   },
   {
    "duration": 31,
    "start_time": "2022-07-23T19:11:16.831Z"
   },
   {
    "duration": 8,
    "start_time": "2022-07-23T19:19:38.941Z"
   },
   {
    "duration": 31,
    "start_time": "2022-07-23T19:19:39.596Z"
   },
   {
    "duration": 50,
    "start_time": "2022-07-23T19:19:40.473Z"
   }
  ],
  "colab": {
   "collapsed_sections": [],
   "name": "Без названия.ipynb",
   "provenance": []
  },
  "kernelspec": {
   "display_name": "Python 3 (ipykernel)",
   "language": "python",
   "name": "python3"
  },
  "language_info": {
   "codemirror_mode": {
    "name": "ipython",
    "version": 3
   },
   "file_extension": ".py",
   "mimetype": "text/x-python",
   "name": "python",
   "nbconvert_exporter": "python",
   "pygments_lexer": "ipython3",
   "version": "3.10.0"
  },
  "toc": {
   "base_numbering": 1,
   "nav_menu": {},
   "number_sections": false,
   "sideBar": true,
   "skip_h1_title": false,
   "title_cell": "Table of Contents",
   "title_sidebar": "Contents",
   "toc_cell": false,
   "toc_position": {},
   "toc_section_display": true,
   "toc_window_display": false
  }
 },
 "nbformat": 4,
 "nbformat_minor": 5
}
